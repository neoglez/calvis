{
  "cells": [
    {
      "cell_type": "markdown",
      "metadata": {
        "id": "view-in-github",
        "colab_type": "text"
      },
      "source": [
        "<a href=\"https://colab.research.google.com/github/neoglez/calvis/blob/master/notebook/download_calvis_8_meshes.ipynb\" target=\"_parent\"><img src=\"https://colab.research.google.com/assets/colab-badge.svg\" alt=\"Open In Colab\"/></a>"
      ]
    },
    {
      "cell_type": "code",
      "execution_count": 27,
      "id": "71dd306e",
      "metadata": {
        "id": "71dd306e",
        "outputId": "64ad95ea-2288-44d5-ddac-ba695c80af06",
        "colab": {
          "base_uri": "https://localhost:8080/"
        }
      },
      "outputs": [
        {
          "output_type": "stream",
          "name": "stdout",
          "text": [
            "/home\n",
            "Downloads\n",
            "/home/Downloads\n"
          ]
        }
      ],
      "source": [
        "%cd /home\n",
        "!rm -rf Downloads || true\n",
        "!mkdir Downloads\n",
        "!ls\n",
        "%cd Downloads"
      ]
    },
    {
      "cell_type": "code",
      "execution_count": 28,
      "id": "1a495d02",
      "metadata": {
        "id": "1a495d02"
      },
      "outputs": [],
      "source": [
        "from tqdm import tqdm\n",
        "from requests.sessions import default_headers\n",
        "import requests\n",
        "import urllib\n",
        "import re\n",
        "\n",
        "url = \"https://cloudlogin03.world4you.com/index.php/s/x2PvyP21UUn84tO/authenticate\"\n",
        "download_url = \"https://cloudlogin03.world4you.com/index.php/s/x2PvyP21UUn84tO/download\"\n",
        "password = \"calvis-8-hm\"\n",
        "requesttoken = ''"
      ]
    },
    {
      "cell_type": "code",
      "source": [
        "s = requests.Session()\n",
        "r0 = s.get(url)\n",
        "\n",
        "requesttoken = re.findall('(?<=data-requesttoken=\").*?(?=\">)', r0.text)\n",
        "if (requesttoken):\n",
        "  requesttoken = requesttoken[0]\n",
        "print(requesttoken)\n",
        "print(r0.cookies)\n",
        "\n",
        "data = {'requesttoken': requesttoken, 'password': password}\n",
        "r1 = s.post(url, data=data)\n",
        "print(r1.cookies)\n",
        "\n",
        "print(\"Downloding Calvis Dataset (only 8 meshes)\")\n",
        "r2 = s.get(download_url, stream=True)\n",
        "total_size_in_bytes= int(r2.headers.get('content-length', 0))\n",
        "block_size = 1024 #1 Kilobyte\n",
        "progress_bar = tqdm(total=total_size_in_bytes, unit='iB', unit_scale=True)\n",
        "with open('calvis-8-human-meshes.tar.gz', 'wb') as file:\n",
        "    for data in r2.iter_content(block_size):\n",
        "        progress_bar.update(len(data))\n",
        "        file.write(data)\n",
        "progress_bar.close()\n",
        "if total_size_in_bytes != 0 and progress_bar.n != total_size_in_bytes:\n",
        "    print(\"ERROR, something went wrong\")"
      ],
      "metadata": {
        "id": "h2RJycnsR4v8",
        "outputId": "a53a5e8b-b044-453d-82e7-ad9b648916ed",
        "colab": {
          "base_uri": "https://localhost:8080/"
        }
      },
      "id": "h2RJycnsR4v8",
      "execution_count": 29,
      "outputs": [
        {
          "output_type": "stream",
          "name": "stdout",
          "text": [
            "byZyJShZIgQmKQd4BkxYEWJkBUIxCwF5GhQTOj9CBwc=:Za4CqiUBTjQNj97p07RpCBI1oMUBnsQE3SeAVy8H4uk=\n",
            "<RequestsCookieJar[<Cookie oc_sessionPassphrase=%2FIDyP7hjU7I%2FyjhCSonrnVrTxOCDoBnswtYu3n5bmDyoSivKCCVcj5ic5c7Y5sHvo%2Bq9717lKERt%2FLtfi1u0PC2%2B07qwSg%2Bg9cev50sfzSH0dQoB8RyI%2BlA2yXXmll%2BN for cloudlogin03.world4you.com/>, <Cookie occ02y8ugluu=4jbqthi7csv2tuchh0uus4faj1 for cloudlogin03.world4you.com/>]>\n",
            "<RequestsCookieJar[]>\n",
            "Downloding Calvis Dataset (only 8 meshes)\n"
          ]
        },
        {
          "output_type": "stream",
          "name": "stderr",
          "text": [
            "100%|██████████| 1.24M/1.24M [00:00<00:00, 1.99MiB/s]\n"
          ]
        }
      ]
    },
    {
      "cell_type": "code",
      "execution_count": 30,
      "id": "ce5df1d6",
      "metadata": {
        "id": "ce5df1d6",
        "outputId": "c17fbf03-2a6a-4818-aac8-8f4c08792a29",
        "colab": {
          "base_uri": "https://localhost:8080/"
        }
      },
      "outputs": [
        {
          "output_type": "stream",
          "name": "stdout",
          "text": [
            "calvis-8-human-meshes.tar.gz\n",
            "1.2 MB\n"
          ]
        }
      ],
      "source": [
        "!ls\n",
        "import os\n",
        "def convert_bytes(num):\n",
        "    \"\"\"\n",
        "    this function will convert bytes to MB.... GB... etc\n",
        "    \"\"\"\n",
        "    for x in ['bytes', 'KB', 'MB', 'GB', 'TB']:\n",
        "        if num < 1024.0:\n",
        "            return \"%3.1f %s\" % (num, x)\n",
        "        num /= 1024.0\n",
        "\n",
        "\n",
        "def file_size(file_path):\n",
        "    \"\"\"\n",
        "    this function will return the file size\n",
        "    \"\"\"\n",
        "    if os.path.isfile(file_path):\n",
        "        file_info = os.stat(file_path)\n",
        "        return convert_bytes(file_info.st_size)\n",
        "\n",
        "\n",
        "# Lets check the file size\n",
        "# or you can use any file path\n",
        "file_path = \"../Downloads/calvis-8-human-meshes.tar.gz\"\n",
        "print(file_size(file_path))"
      ]
    },
    {
      "cell_type": "code",
      "execution_count": 31,
      "id": "170790a5",
      "metadata": {
        "id": "170790a5",
        "outputId": "c5a06982-0c71-4127-8284-b84be45d4754",
        "colab": {
          "base_uri": "https://localhost:8080/"
        }
      },
      "outputs": [
        {
          "output_type": "stream",
          "name": "stdout",
          "text": [
            "/home/Downloads\n"
          ]
        }
      ],
      "source": [
        "%cd ../Downloads\n",
        "!tar -xf calvis-8-human-meshes.tar.gz"
      ]
    },
    {
      "cell_type": "code",
      "execution_count": 32,
      "id": "9c45ba2c",
      "metadata": {
        "id": "9c45ba2c",
        "outputId": "8dfdc597-d478-4eed-affe-e30d0eac5075",
        "colab": {
          "base_uri": "https://localhost:8080/"
        }
      },
      "outputs": [
        {
          "output_type": "stream",
          "name": "stdout",
          "text": [
            "/home/Downloads/data/human_body_meshes/female\n",
            "total 1720\n",
            "drwxr-xr-x 2 1000 1000   4096 May 15  2020 \u001b[0m\u001b[01;34m.\u001b[0m/\n",
            "drwxr-xr-x 4 1000 1000   4096 May 15  2020 \u001b[01;34m..\u001b[0m/\n",
            "-rw-r--r-- 1 1000 1000 436807 May 15  2020 subject_mesh_01.obj\n",
            "-rw-r--r-- 1 1000 1000 436720 May 15  2020 subject_mesh_02.obj\n",
            "-rw-r--r-- 1 1000 1000 436751 May 15  2020 subject_mesh_03.obj\n",
            "-rw-r--r-- 1 1000 1000 436670 May 15  2020 subject_mesh_04.obj\n"
          ]
        }
      ],
      "source": [
        "# go into the dataset\n",
        "%cd ./data/human_body_meshes/female\n",
        "%ls -la"
      ]
    },
    {
      "cell_type": "code",
      "execution_count": 32,
      "id": "cccb6387",
      "metadata": {
        "id": "cccb6387"
      },
      "outputs": [],
      "source": []
    }
  ],
  "metadata": {
    "kernelspec": {
      "display_name": "Python (py27_env)",
      "language": "python",
      "name": "py27_env"
    },
    "colab": {
      "provenance": [],
      "include_colab_link": true
    }
  },
  "nbformat": 4,
  "nbformat_minor": 5
}