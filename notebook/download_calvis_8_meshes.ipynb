{
 "cells": [
  {
   "cell_type": "code",
   "execution_count": null,
   "id": "71dd306e",
   "metadata": {},
   "outputs": [],
   "source": [
    "%cd /home\n",
    "!rm -rf Downloads || true\n",
    "!mkdir Downloads\n",
    "!ls\n",
    "%cd Downloads"
   ]
  },
  {
   "cell_type": "code",
   "execution_count": null,
   "id": "1a495d02",
   "metadata": {},
   "outputs": [],
   "source": [
    "from tqdm import tqdm\n",
    "from requests.sessions import default_headers\n",
    "import requests\n",
    "import urllib\n",
    "import re\n",
    "\n",
    "url = \"https://cloudlogin03.world4you.com/index.php/s/x2PvyP21UUn84tO\"\n",
    "download_url = \"https://cloudlogin03.world4you.com/index.php/s/x2PvyP21UUn84tO/download\"\n",
    "password = \"calvis-8-hm\"\n",
    "requesttoken = ''\n",
    "\n",
    "\n",
    "s = requests.Session()\n",
    "r0 = s.get(url)\n",
    "\n",
    "requesttoken = re.findall('(?<=data-requesttoken=\").*?(?=\">)', r0.text)\n",
    "if (requesttoken):\n",
    "  requesttoken = requesttoken[0]\n",
    "print(requesttoken)\n",
    "\n",
    "data = {'requesttoken': requesttoken, 'password': password}\n",
    "r1 = s.post(url, data=data)\n",
    "\n",
    "print(\"Downloding Calvis Dataset (only 8 meshes)\")\n",
    "r2 = s.get(download_url, stream=True)\n",
    "total_size_in_bytes= int(r2.headers.get('content-length', 0))\n",
    "block_size = 1024 #1 Kilobyte\n",
    "progress_bar = tqdm(total=total_size_in_bytes, unit='iB', unit_scale=True)\n",
    "with open('neural-anthropometer.tar.gz', 'wb') as file:\n",
    "    for data in r2.iter_content(block_size):\n",
    "        progress_bar.update(len(data))\n",
    "        file.write(data)\n",
    "progress_bar.close()\n",
    "if total_size_in_bytes != 0 and progress_bar.n != total_size_in_bytes:\n",
    "    print(\"ERROR, something went wrong\")\n"
   ]
  },
  {
   "cell_type": "code",
   "execution_count": null,
   "id": "ce5df1d6",
   "metadata": {},
   "outputs": [],
   "source": [
    "!ls\n",
    "import os\n",
    "def convert_bytes(num):\n",
    "    \"\"\"\n",
    "    this function will convert bytes to MB.... GB... etc\n",
    "    \"\"\"\n",
    "    for x in ['bytes', 'KB', 'MB', 'GB', 'TB']:\n",
    "        if num < 1024.0:\n",
    "            return \"%3.1f %s\" % (num, x)\n",
    "        num /= 1024.0\n",
    "\n",
    "\n",
    "def file_size(file_path):\n",
    "    \"\"\"\n",
    "    this function will return the file size\n",
    "    \"\"\"\n",
    "    if os.path.isfile(file_path):\n",
    "        file_info = os.stat(file_path)\n",
    "        return convert_bytes(file_info.st_size)\n",
    "\n",
    "\n",
    "# Lets check the file size\n",
    "# or you can use any file path\n",
    "file_path = \"../../Downloads/calvis-8-human-meshes.tar.gz\"\n",
    "print(file_size(file_path))"
   ]
  },
  {
   "cell_type": "code",
   "execution_count": null,
   "id": "170790a5",
   "metadata": {},
   "outputs": [],
   "source": [
    "%cd ../../Downloads\n",
    "!tar -xf calvis-8-human-meshes.tar.gz"
   ]
  },
  {
   "cell_type": "code",
   "execution_count": null,
   "id": "9c45ba2c",
   "metadata": {},
   "outputs": [],
   "source": [
    "# go into the dataset\n",
    "%cd ./data/human_body_meshes/female\n",
    "%ls -la"
   ]
  },
  {
   "cell_type": "code",
   "execution_count": null,
   "id": "cccb6387",
   "metadata": {},
   "outputs": [],
   "source": []
  }
 ],
 "metadata": {
  "kernelspec": {
   "display_name": "Python (py27_env)",
   "language": "python",
   "name": "py27_env"
  }
 },
 "nbformat": 4,
 "nbformat_minor": 5
}
